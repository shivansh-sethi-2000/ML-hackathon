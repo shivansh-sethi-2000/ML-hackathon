{
  "cells": [
    {
      "cell_type": "code",
      "execution_count": null,
      "metadata": {
        "id": "biJSTrYkox6o"
      },
      "outputs": [],
      "source": [
        "import pandas as pd\n",
        "import numpy as np\n",
        "import matplotlib.pyplot as plt\n",
        "from sklearn.linear_model import LogisticRegression\n",
        "from sklearn.model_selection import train_test_split, RepeatedStratifiedKFold, cross_val_score\n",
        "from sklearn.feature_selection import SelectKBest, chi2, f_classif\n",
        "from sklearn.preprocessing import PolynomialFeatures, OneHotEncoder,StandardScaler, MinMaxScaler\n",
        "from sklearn.impute import SimpleImputer\n",
        "from sklearn.naive_bayes import GaussianNB, BernoulliNB\n",
        "from sklearn.pipeline import Pipeline, FeatureUnion\n",
        "from sklearn.svm import SVC, LinearSVC\n",
        "from sklearn.compose import ColumnTransformer\n",
        "from sklearn.ensemble import StackingClassifier, VotingClassifier\n",
        "from sklearn.decomposition import PCA\n",
        "from sklearn.metrics import roc_auc_score\n",
        "from scipy import stats\n",
        "import warnings\n",
        "from itertools import combinations\n",
        "import seaborn as sns\n",
        "import math"
      ]
    },
    {
      "cell_type": "code",
      "execution_count": null,
      "metadata": {
        "colab": {
          "base_uri": "https://localhost:8080/",
          "height": 110,
          "resources": {
            "http://localhost:8080/nbextensions/google.colab/files.js": {
              "data": "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",
              "headers": [
                [
                  "content-type",
                  "application/javascript"
                ]
              ],
              "ok": true,
              "status": 200,
              "status_text": "OK"
            }
          }
        },
        "id": "prwqqTn1pAJq",
        "outputId": "aa29d464-385e-4df4-841c-7f84987df4c7"
      },
      "outputs": [
        {
          "data": {
            "text/html": [
              "\n",
              "     <input type=\"file\" id=\"files-bf7160b3-4e88-4e92-979c-b5d1710c3afa\" name=\"files[]\" multiple disabled\n",
              "        style=\"border:none\" />\n",
              "     <output id=\"result-bf7160b3-4e88-4e92-979c-b5d1710c3afa\">\n",
              "      Upload widget is only available when the cell has been executed in the\n",
              "      current browser session. Please rerun this cell to enable.\n",
              "      </output>\n",
              "      <script src=\"/nbextensions/google.colab/files.js\"></script> "
            ],
            "text/plain": [
              "<IPython.core.display.HTML object>"
            ]
          },
          "metadata": {},
          "output_type": "display_data"
        },
        {
          "name": "stdout",
          "output_type": "stream",
          "text": [
            "Saving test.csv to test.csv\n",
            "Saving train.csv to train.csv\n"
          ]
        }
      ],
      "source": [
        "# from google.colab import files\n",
        "# uploaded = files.upload()"
      ]
    },
    {
      "cell_type": "code",
      "execution_count": null,
      "metadata": {
        "id": "ugJiS7PbpC7x"
      },
      "outputs": [],
      "source": [
        "X = pd.read_csv('train.csv')\n",
        "test = pd.read_csv('test.csv')\n",
        "X.drop(['id'], axis=1, inplace=True)\n",
        "test_id = test['id']\n",
        "test.drop(['id'], axis=1, inplace=True)"
      ]
    },
    {
      "cell_type": "code",
      "execution_count": null,
      "metadata": {
        "colab": {
          "base_uri": "https://localhost:8080/"
        },
        "id": "UUZU1VxWpd7v",
        "outputId": "5a70420d-54db-4a91-d004-191828e46fe5"
      },
      "outputs": [
        {
          "data": {
            "text/plain": [
              "(22792, 15)"
            ]
          },
          "execution_count": 4,
          "metadata": {},
          "output_type": "execute_result"
        }
      ],
      "source": [
        "X.shape"
      ]
    },
    {
      "cell_type": "code",
      "execution_count": null,
      "metadata": {
        "colab": {
          "base_uri": "https://localhost:8080/"
        },
        "id": "O4-2ZCTOpgk1",
        "outputId": "6fa5696c-eb00-4809-e3cf-448db26f1749"
      },
      "outputs": [
        {
          "name": "stdout",
          "output_type": "stream",
          "text": [
            "<class 'pandas.core.frame.DataFrame'>\n",
            "RangeIndex: 22792 entries, 0 to 22791\n",
            "Data columns (total 15 columns):\n",
            " #   Column               Non-Null Count  Dtype \n",
            "---  ------               --------------  ----- \n",
            " 0   age                  22792 non-null  int64 \n",
            " 1   Working Section      22792 non-null  object\n",
            " 2   Financial Weight     22792 non-null  int64 \n",
            " 3   education            22792 non-null  object\n",
            " 4   education-num        22792 non-null  int64 \n",
            " 5   Marriage Status      22792 non-null  object\n",
            " 6   occupation           22792 non-null  object\n",
            " 7   Relationship Status  22792 non-null  object\n",
            " 8   Skin Color           22792 non-null  object\n",
            " 9   Gender               22792 non-null  object\n",
            " 10  Capital Gain         22792 non-null  int64 \n",
            " 11  Capital Loss         22792 non-null  int64 \n",
            " 12  hours-per-week       22792 non-null  int64 \n",
            " 13  Country              22792 non-null  object\n",
            " 14  Predictions          22792 non-null  object\n",
            "dtypes: int64(6), object(9)\n",
            "memory usage: 2.6+ MB\n"
          ]
        }
      ],
      "source": [
        "X.info()"
      ]
    },
    {
      "cell_type": "code",
      "execution_count": null,
      "metadata": {
        "colab": {
          "base_uri": "https://localhost:8080/",
          "height": 237
        },
        "id": "Pb5rbJc3pjge",
        "outputId": "626ae73c-99d7-4119-dd97-f32308693aeb"
      },
      "outputs": [
        {
          "data": {
            "text/html": [
              "<div>\n",
              "<style scoped>\n",
              "    .dataframe tbody tr th:only-of-type {\n",
              "        vertical-align: middle;\n",
              "    }\n",
              "\n",
              "    .dataframe tbody tr th {\n",
              "        vertical-align: top;\n",
              "    }\n",
              "\n",
              "    .dataframe thead th {\n",
              "        text-align: right;\n",
              "    }\n",
              "</style>\n",
              "<table border=\"1\" class=\"dataframe\">\n",
              "  <thead>\n",
              "    <tr style=\"text-align: right;\">\n",
              "      <th></th>\n",
              "      <th>count</th>\n",
              "      <th>mean</th>\n",
              "      <th>std</th>\n",
              "      <th>min</th>\n",
              "      <th>25%</th>\n",
              "      <th>50%</th>\n",
              "      <th>75%</th>\n",
              "      <th>max</th>\n",
              "    </tr>\n",
              "  </thead>\n",
              "  <tbody>\n",
              "    <tr>\n",
              "      <th>age</th>\n",
              "      <td>22792.0</td>\n",
              "      <td>38.555414</td>\n",
              "      <td>13.619696</td>\n",
              "      <td>17.0</td>\n",
              "      <td>28.00</td>\n",
              "      <td>37.0</td>\n",
              "      <td>47.0</td>\n",
              "      <td>90.0</td>\n",
              "    </tr>\n",
              "    <tr>\n",
              "      <th>Financial Weight</th>\n",
              "      <td>22792.0</td>\n",
              "      <td>189858.356792</td>\n",
              "      <td>105932.263433</td>\n",
              "      <td>12285.0</td>\n",
              "      <td>117765.25</td>\n",
              "      <td>178605.5</td>\n",
              "      <td>237732.0</td>\n",
              "      <td>1484705.0</td>\n",
              "    </tr>\n",
              "    <tr>\n",
              "      <th>education-num</th>\n",
              "      <td>22792.0</td>\n",
              "      <td>10.076737</td>\n",
              "      <td>2.582573</td>\n",
              "      <td>1.0</td>\n",
              "      <td>9.00</td>\n",
              "      <td>10.0</td>\n",
              "      <td>12.0</td>\n",
              "      <td>16.0</td>\n",
              "    </tr>\n",
              "    <tr>\n",
              "      <th>Capital Gain</th>\n",
              "      <td>22792.0</td>\n",
              "      <td>1053.415716</td>\n",
              "      <td>7223.331352</td>\n",
              "      <td>0.0</td>\n",
              "      <td>0.00</td>\n",
              "      <td>0.0</td>\n",
              "      <td>0.0</td>\n",
              "      <td>99999.0</td>\n",
              "    </tr>\n",
              "    <tr>\n",
              "      <th>Capital Loss</th>\n",
              "      <td>22792.0</td>\n",
              "      <td>86.643603</td>\n",
              "      <td>402.098547</td>\n",
              "      <td>0.0</td>\n",
              "      <td>0.00</td>\n",
              "      <td>0.0</td>\n",
              "      <td>0.0</td>\n",
              "      <td>4356.0</td>\n",
              "    </tr>\n",
              "    <tr>\n",
              "      <th>hours-per-week</th>\n",
              "      <td>22792.0</td>\n",
              "      <td>40.441032</td>\n",
              "      <td>12.316680</td>\n",
              "      <td>1.0</td>\n",
              "      <td>40.00</td>\n",
              "      <td>40.0</td>\n",
              "      <td>45.0</td>\n",
              "      <td>99.0</td>\n",
              "    </tr>\n",
              "  </tbody>\n",
              "</table>\n",
              "</div>"
            ],
            "text/plain": [
              "                    count           mean  ...       75%        max\n",
              "age               22792.0      38.555414  ...      47.0       90.0\n",
              "Financial Weight  22792.0  189858.356792  ...  237732.0  1484705.0\n",
              "education-num     22792.0      10.076737  ...      12.0       16.0\n",
              "Capital Gain      22792.0    1053.415716  ...       0.0    99999.0\n",
              "Capital Loss      22792.0      86.643603  ...       0.0     4356.0\n",
              "hours-per-week    22792.0      40.441032  ...      45.0       99.0\n",
              "\n",
              "[6 rows x 8 columns]"
            ]
          },
          "execution_count": 6,
          "metadata": {},
          "output_type": "execute_result"
        }
      ],
      "source": [
        "X.describe().T"
      ]
    },
    {
      "cell_type": "code",
      "execution_count": null,
      "metadata": {
        "colab": {
          "base_uri": "https://localhost:8080/",
          "height": 310
        },
        "id": "5M7ZA2dfqOHr",
        "outputId": "9b5e3668-d401-4740-f63f-3605968f63a4"
      },
      "outputs": [
        {
          "data": {
            "text/html": [
              "<div>\n",
              "<style scoped>\n",
              "    .dataframe tbody tr th:only-of-type {\n",
              "        vertical-align: middle;\n",
              "    }\n",
              "\n",
              "    .dataframe tbody tr th {\n",
              "        vertical-align: top;\n",
              "    }\n",
              "\n",
              "    .dataframe thead th {\n",
              "        text-align: right;\n",
              "    }\n",
              "</style>\n",
              "<table border=\"1\" class=\"dataframe\">\n",
              "  <thead>\n",
              "    <tr style=\"text-align: right;\">\n",
              "      <th></th>\n",
              "      <th>age</th>\n",
              "      <th>Working Section</th>\n",
              "      <th>Financial Weight</th>\n",
              "      <th>education</th>\n",
              "      <th>education-num</th>\n",
              "      <th>Marriage Status</th>\n",
              "      <th>occupation</th>\n",
              "      <th>Relationship Status</th>\n",
              "      <th>Skin Color</th>\n",
              "      <th>Gender</th>\n",
              "      <th>Capital Gain</th>\n",
              "      <th>Capital Loss</th>\n",
              "      <th>hours-per-week</th>\n",
              "      <th>Country</th>\n",
              "      <th>Predictions</th>\n",
              "    </tr>\n",
              "  </thead>\n",
              "  <tbody>\n",
              "    <tr>\n",
              "      <th>0</th>\n",
              "      <td>48</td>\n",
              "      <td>Private</td>\n",
              "      <td>138970</td>\n",
              "      <td>Bachelors</td>\n",
              "      <td>13</td>\n",
              "      <td>Married Civilian</td>\n",
              "      <td>Exec-managerial</td>\n",
              "      <td>Husband</td>\n",
              "      <td>White</td>\n",
              "      <td>Male</td>\n",
              "      <td>0</td>\n",
              "      <td>0</td>\n",
              "      <td>45</td>\n",
              "      <td>United-States</td>\n",
              "      <td>Rich</td>\n",
              "    </tr>\n",
              "    <tr>\n",
              "      <th>1</th>\n",
              "      <td>21</td>\n",
              "      <td>State Govenment</td>\n",
              "      <td>96483</td>\n",
              "      <td>Some-college</td>\n",
              "      <td>10</td>\n",
              "      <td>No Marriage</td>\n",
              "      <td>Adm-clerical</td>\n",
              "      <td>Own-child</td>\n",
              "      <td>Asian-Pac-Islander</td>\n",
              "      <td>Female</td>\n",
              "      <td>0</td>\n",
              "      <td>0</td>\n",
              "      <td>12</td>\n",
              "      <td>United-States</td>\n",
              "      <td>Poor</td>\n",
              "    </tr>\n",
              "    <tr>\n",
              "      <th>2</th>\n",
              "      <td>49</td>\n",
              "      <td>Private</td>\n",
              "      <td>228583</td>\n",
              "      <td>HS-grad</td>\n",
              "      <td>9</td>\n",
              "      <td>Divorced</td>\n",
              "      <td>Other-service</td>\n",
              "      <td>Unmarried</td>\n",
              "      <td>White</td>\n",
              "      <td>Male</td>\n",
              "      <td>0</td>\n",
              "      <td>0</td>\n",
              "      <td>40</td>\n",
              "      <td>Columbia</td>\n",
              "      <td>Poor</td>\n",
              "    </tr>\n",
              "    <tr>\n",
              "      <th>3</th>\n",
              "      <td>40</td>\n",
              "      <td>Private</td>\n",
              "      <td>130760</td>\n",
              "      <td>Assoc-voc</td>\n",
              "      <td>11</td>\n",
              "      <td>Married Civilian</td>\n",
              "      <td>Exec-managerial</td>\n",
              "      <td>Husband</td>\n",
              "      <td>White</td>\n",
              "      <td>Male</td>\n",
              "      <td>0</td>\n",
              "      <td>0</td>\n",
              "      <td>50</td>\n",
              "      <td>United-States</td>\n",
              "      <td>Rich</td>\n",
              "    </tr>\n",
              "    <tr>\n",
              "      <th>4</th>\n",
              "      <td>55</td>\n",
              "      <td>Local Government</td>\n",
              "      <td>223716</td>\n",
              "      <td>Some-college</td>\n",
              "      <td>10</td>\n",
              "      <td>Divorced</td>\n",
              "      <td>Exec-managerial</td>\n",
              "      <td>Not-in-family</td>\n",
              "      <td>Amer-Indian-Eskimo</td>\n",
              "      <td>Female</td>\n",
              "      <td>0</td>\n",
              "      <td>0</td>\n",
              "      <td>40</td>\n",
              "      <td>United-States</td>\n",
              "      <td>Poor</td>\n",
              "    </tr>\n",
              "  </tbody>\n",
              "</table>\n",
              "</div>"
            ],
            "text/plain": [
              "   age   Working Section  ...        Country Predictions\n",
              "0   48           Private  ...  United-States        Rich\n",
              "1   21   State Govenment  ...  United-States        Poor\n",
              "2   49           Private  ...       Columbia        Poor\n",
              "3   40           Private  ...  United-States        Rich\n",
              "4   55  Local Government  ...  United-States        Poor\n",
              "\n",
              "[5 rows x 15 columns]"
            ]
          },
          "execution_count": 7,
          "metadata": {},
          "output_type": "execute_result"
        }
      ],
      "source": [
        "X.head()"
      ]
    },
    {
      "cell_type": "markdown",
      "metadata": {
        "id": "aLlCFOIcgZdZ"
      },
      "source": [
        "Replacing '?' to nan values"
      ]
    },
    {
      "cell_type": "code",
      "execution_count": null,
      "metadata": {
        "id": "G58r2O2eqzTH"
      },
      "outputs": [],
      "source": [
        "X = X.replace('?', np.nan)\n",
        "test = test.replace('?', np.nan)"
      ]
    },
    {
      "cell_type": "code",
      "execution_count": null,
      "metadata": {
        "colab": {
          "base_uri": "https://localhost:8080/"
        },
        "id": "Bm_TTa7HKiXn",
        "outputId": "daac4107-2f48-4d50-b690-8f62b53b8deb"
      },
      "outputs": [
        {
          "name": "stdout",
          "output_type": "stream",
          "text": [
            "age                       0\n",
            "Working Section        1266\n",
            "Financial Weight          0\n",
            "education                 0\n",
            "education-num             0\n",
            "Marriage Status           0\n",
            "occupation             1270\n",
            "Relationship Status       0\n",
            "Skin Color                0\n",
            "Gender                    0\n",
            "Capital Gain              0\n",
            "Capital Loss              0\n",
            "hours-per-week            0\n",
            "Country                 413\n",
            "Predictions               0\n",
            "dtype: int64\n",
            "age                      0\n",
            "Working Section        570\n",
            "Financial Weight         0\n",
            "education                0\n",
            "education-num            0\n",
            "Marriage Status          0\n",
            "occupation             573\n",
            "Relationship Status      0\n",
            "Skin Color               0\n",
            "Gender                   0\n",
            "Capital Gain             0\n",
            "Capital Loss             0\n",
            "hours-per-week           0\n",
            "Country                170\n",
            "dtype: int64\n"
          ]
        }
      ],
      "source": [
        "print(X.isna().sum())\n",
        "print(test.isna().sum())"
      ]
    },
    {
      "cell_type": "markdown",
      "metadata": {
        "id": "zd1F4jx1giVF"
      },
      "source": [
        "Checking unique categories for some Categorical Features."
      ]
    },
    {
      "cell_type": "code",
      "execution_count": null,
      "metadata": {
        "colab": {
          "base_uri": "https://localhost:8080/"
        },
        "id": "y9IvUQTltlUt",
        "outputId": "4999fdcf-b9d5-4160-e5e4-1e2f85183e70"
      },
      "outputs": [
        {
          "data": {
            "text/plain": [
              "Private                 15895\n",
              "Self Employed No Inc     1798\n",
              "Local Government         1459\n",
              "State Govenment           943\n",
              "Self Employed + Inc       771\n",
              "Police                    647\n",
              "No Pay                      9\n",
              "Never Worked                4\n",
              "Name: Working Section, dtype: int64"
            ]
          },
          "execution_count": 10,
          "metadata": {},
          "output_type": "execute_result"
        }
      ],
      "source": [
        "X['Working Section'].value_counts()"
      ]
    },
    {
      "cell_type": "code",
      "execution_count": null,
      "metadata": {
        "colab": {
          "base_uri": "https://localhost:8080/"
        },
        "id": "Y2qUc12EuESV",
        "outputId": "a1af3e49-219c-4c91-d5e2-e8607ea8e23f"
      },
      "outputs": [
        {
          "data": {
            "text/plain": [
              "Prof-specialty       2967\n",
              "Craft-repair         2891\n",
              "Exec-managerial      2799\n",
              "Adm-clerical         2624\n",
              "Sales                2607\n",
              "Other-service        2272\n",
              "Machine-op-inspct    1432\n",
              "Transport-moving     1094\n",
              "Handlers-cleaners     965\n",
              "Farming-fishing       657\n",
              "Tech-support          645\n",
              "Protective-serv       456\n",
              "Priv-house-serv       105\n",
              "Armed-Forces            8\n",
              "Name: occupation, dtype: int64"
            ]
          },
          "execution_count": 11,
          "metadata": {},
          "output_type": "execute_result"
        }
      ],
      "source": [
        "X['occupation'].value_counts()"
      ]
    },
    {
      "cell_type": "code",
      "execution_count": null,
      "metadata": {
        "colab": {
          "base_uri": "https://localhost:8080/"
        },
        "id": "63GQXPTSv5rK",
        "outputId": "326ad644-28a5-461b-c436-e7b513e51b0f"
      },
      "outputs": [
        {
          "data": {
            "text/plain": [
              "United-States                 20382\n",
              "Mexico                          465\n",
              "Philippines                     134\n",
              "Germany                          92\n",
              "Puerto-Rico                      88\n",
              "Canada                           85\n",
              "El-Salvador                      81\n",
              "Cuba                             73\n",
              "India                            66\n",
              "Jamaica                          59\n",
              "England                          59\n",
              "Dominican-Republic               57\n",
              "Vietnam                          51\n",
              "China                            50\n",
              "Columbia                         49\n",
              "Poland                           48\n",
              "Guatemala                        48\n",
              "South                            48\n",
              "Italy                            46\n",
              "Japan                            42\n",
              "Taiwan                           39\n",
              "Iran                             30\n",
              "Haiti                            29\n",
              "Portugal                         29\n",
              "Greece                           23\n",
              "Peru                             21\n",
              "Nicaragua                        20\n",
              "France                           20\n",
              "Ecuador                          19\n",
              "Ireland                          18\n",
              "Trinadad&Tobago                  15\n",
              "Cambodia                         14\n",
              "Hong                             13\n",
              "Thailand                         12\n",
              "Laos                             11\n",
              "Outlying-US(Guam-USVI-etc)       10\n",
              "Honduras                         10\n",
              "Hungary                           8\n",
              "Yugoslavia                        8\n",
              "Scotland                          6\n",
              "Holand-Netherlands                1\n",
              "Name: Country, dtype: int64"
            ]
          },
          "execution_count": 12,
          "metadata": {},
          "output_type": "execute_result"
        }
      ],
      "source": [
        "X['Country'].value_counts()"
      ]
    },
    {
      "cell_type": "markdown",
      "metadata": {
        "id": "_LFHoZ9lhSDU"
      },
      "source": [
        "As the category United States dominate the 'Country' feature , we categorized all other countries to 'other'."
      ]
    },
    {
      "cell_type": "code",
      "execution_count": null,
      "metadata": {
        "id": "Mmm5a2z92jsI"
      },
      "outputs": [],
      "source": [
        "X['Country'] = ['United-States' if x == 'United-States' else 'other' for x in X['Country']]\n",
        "test['Country'] = ['United-States' if x == 'United-States' else 'other' for x in test['Country']]\n",
        "X['Predictions'] = [1 if x == 'Rich' else 0 for x in X['Predictions']]"
      ]
    },
    {
      "cell_type": "markdown",
      "metadata": {
        "id": "84f-UXvygs_7"
      },
      "source": [
        "Exploratory Data Analysis."
      ]
    },
    {
      "cell_type": "code",
      "execution_count": null,
      "metadata": {
        "colab": {
          "base_uri": "https://localhost:8080/",
          "height": 308
        },
        "id": "799o9pyAmEoP",
        "outputId": "70a43e48-fc44-4086-8a6e-0ea312d2d6ec"
      },
      "outputs": [
        {
          "data": {
            "text/plain": [
              "<matplotlib.axes._subplots.AxesSubplot at 0x7f7b59ec3110>"
            ]
          },
          "execution_count": 15,
          "metadata": {},
          "output_type": "execute_result"
        },
        {
          "data": {
            "image/png": "[encoded data removed]",
            "text/plain": [
              "<Figure size 432x288 with 1 Axes>"
            ]
          },
          "metadata": {
            "needs_background": "light"
          },
          "output_type": "display_data"
        }
      ],
      "source": [
        "sns.violinplot(y=X[\"Financial Weight\"], x=X[\"Predictions\"])"
      ]
    },
    {
      "cell_type": "code",
      "execution_count": null,
      "metadata": {
        "colab": {
          "base_uri": "https://localhost:8080/",
          "height": 297
        },
        "id": "cOCP07uqnfwl",
        "outputId": "18d3ad32-daa1-4a99-b62b-4cdea469b59d"
      },
      "outputs": [
        {
          "data": {
            "text/plain": [
              "<matplotlib.axes._subplots.AxesSubplot at 0x7f7b4e6b61d0>"
            ]
          },
          "execution_count": 16,
          "metadata": {},
          "output_type": "execute_result"
        },
        {
          "data": {
            "image/png": "[encoded data removed]",
            "text/plain": [
              "<Figure size 432x288 with 1 Axes>"
            ]
          },
          "metadata": {
            "needs_background": "light"
          },
          "output_type": "display_data"
        }
      ],
      "source": [
        "sns.violinplot(y=X[\"age\"], x=X[\"Predictions\"])\n"
      ]
    },
    {
      "cell_type": "code",
      "execution_count": null,
      "metadata": {
        "colab": {
          "base_uri": "https://localhost:8080/",
          "height": 299
        },
        "id": "HOvseBwXnnAV",
        "outputId": "c574a42c-b1c3-4d67-a485-0a6b0a7f5c68"
      },
      "outputs": [
        {
          "data": {
            "text/plain": [
              "<matplotlib.axes._subplots.AxesSubplot at 0x7f7b4e652350>"
            ]
          },
          "execution_count": 17,
          "metadata": {},
          "output_type": "execute_result"
        },
        {
          "data": {
            "image/png": "[encoded data removed]",
            "text/plain": [
              "<Figure size 432x288 with 1 Axes>"
            ]
          },
          "metadata": {
            "needs_background": "light"
          },
          "output_type": "display_data"
        }
      ],
      "source": [
        "sns.violinplot(y=X[\"education-num\"], x=X[\"Predictions\"])\n"
      ]
    },
    {
      "cell_type": "code",
      "execution_count": null,
      "metadata": {
        "colab": {
          "base_uri": "https://localhost:8080/",
          "height": 297
        },
        "id": "jhagKtfZoFa-",
        "outputId": "7595770a-2e07-44cb-d4b7-d63067918f4a"
      },
      "outputs": [
        {
          "data": {
            "text/plain": [
              "<matplotlib.axes._subplots.AxesSubplot at 0x7f7b4e6bc990>"
            ]
          },
          "execution_count": 18,
          "metadata": {},
          "output_type": "execute_result"
        },
        {
          "data": {
            "image/png": "[encoded data removed]",
            "text/plain": [
              "<Figure size 432x288 with 1 Axes>"
            ]
          },
          "metadata": {
            "needs_background": "light"
          },
          "output_type": "display_data"
        }
      ],
      "source": [
        "sns.violinplot(y=X[\"hours-per-week\"], x=X[\"Predictions\"])\n"
      ]
    },
    {
      "cell_type": "markdown",
      "metadata": {
        "id": "d0SGckzpgxpo"
      },
      "source": [
        "Checking for Outliers"
      ]
    },
    {
      "cell_type": "code",
      "execution_count": null,
      "metadata": {
        "colab": {
          "base_uri": "https://localhost:8080/",
          "height": 747
        },
        "id": "nJ6Wy5KnwuiS",
        "outputId": "e4a695a8-4e55-4176-e163-6870e4ec8649"
      },
      "outputs": [
        {
          "data": {
            "image/png": "[encoded data removed]",
            "text/plain": [
              "<Figure size 1152x720 with 6 Axes>"
            ]
          },
          "metadata": {
            "needs_background": "light"
          },
          "output_type": "display_data"
        }
      ],
      "source": [
        "fig, ax = plt.subplots(nrows=3, ncols=2, figsize=(16,10))\n",
        "index = 0\n",
        "ax = ax.flatten()\n",
        "\n",
        "for x in X.columns:\n",
        "    if X[x].dtype == object:\n",
        "      continue\n",
        "    sns.boxplot(y=x, data=X, ax=ax[index])\n",
        "    index += 1\n",
        "plt.tight_layout(pad=0.2, w_pad=0.4, h_pad=3.0)"
      ]
    },
    {
      "cell_type": "code",
      "execution_count": null,
      "metadata": {
        "id": "dDO5mSQAxNbs"
      },
      "outputs": [],
      "source": [
        "def remove_outlier(df):\n",
        "    \n",
        "    df1 = df.copy()\n",
        "    df = df._get_numeric_data()\n",
        "    q1 = df.quantile(0.25)\n",
        "    q3 = df.quantile(0.75)\n",
        "\n",
        "    iqr = q3 - q1\n",
        "\n",
        "    lb = q1 - (1.5 * iqr)\n",
        "    ub = q3 + (1.5 * iqr)\n",
        "    # print(df.columns)\n",
        "    indexes = []\n",
        "    for col in df.columns:\n",
        "        if df[col].dtype == object:\n",
        "          print(col)\n",
        "          continue\n",
        "        for i in range(df.shape[0]):\n",
        "            if df[col][i] < lb[col]:            \n",
        "                df[col][i] = lb[col]\n",
        "                # indexes.append(i)\n",
        "\n",
        "            if df[col][i] > ub[col]:            \n",
        "                df[col][i] = ub[col]\n",
        "                # indexes.append(i)       \n",
        "    # df1 = df1.drop(indexes, axis=0)\n",
        "    for col in df.columns:\n",
        "        df1[col] = df[col]\n",
        "    print(df1.columns)\n",
        "    return df1"
      ]
    },
    {
      "cell_type": "markdown",
      "metadata": {
        "id": "5RJ4mZGCg5N4"
      },
      "source": [
        "The number of outliers were not decisive.\n",
        "Removing outliers was not feasible."
      ]
    },
    {
      "cell_type": "code",
      "execution_count": null,
      "metadata": {
        "id": "ysLPyjgV0hFG"
      },
      "outputs": [],
      "source": [
        "# X.columns\n",
        "# X = remove_outlier(X)"
      ]
    },
    {
      "cell_type": "markdown",
      "metadata": {
        "id": "uW8dT-O1hIHz"
      },
      "source": [
        "Checking for correlated features."
      ]
    },
    {
      "cell_type": "code",
      "execution_count": null,
      "metadata": {
        "colab": {
          "base_uri": "https://localhost:8080/",
          "height": 359
        },
        "id": "4X8CanVU1gJK",
        "outputId": "7dd991d3-6089-4716-e980-4131cdacbc6a"
      },
      "outputs": [
        {
          "data": {
            "text/plain": [
              "<matplotlib.axes._subplots.AxesSubplot at 0x7f7b4e0a00d0>"
            ]
          },
          "execution_count": 27,
          "metadata": {},
          "output_type": "execute_result"
        },
        {
          "data": {
            "image/png": "[encoded data removed]",
            "text/plain": [
              "<Figure size 432x288 with 2 Axes>"
            ]
          },
          "metadata": {
            "needs_background": "light"
          },
          "output_type": "display_data"
        }
      ],
      "source": [
        "sns.heatmap(X.corr(), vmin=-1, vmax=1, cmap=\"coolwarm\", annot=True, fmt='.2f')"
      ]
    },
    {
      "cell_type": "markdown",
      "metadata": {
        "id": "7frkWVZqhMju"
      },
      "source": [
        "Plotting Distribution graphs."
      ]
    },
    {
      "cell_type": "code",
      "execution_count": null,
      "metadata": {
        "colab": {
          "base_uri": "https://localhost:8080/",
          "height": 741
        },
        "id": "8_EsohiE7BP3",
        "outputId": "32804781-3a8f-42db-d1c7-f826b0dc3cc5"
      },
      "outputs": [
        {
          "data": {
            "image/png": "[encoded data removed]",
            "text/plain": [
              "<Figure size 1152x720 with 6 Axes>"
            ]
          },
          "metadata": {
            "needs_background": "light"
          },
          "output_type": "display_data"
        }
      ],
      "source": [
        "warnings.filterwarnings(\"ignore\")\n",
        "fig,ax = plt.subplots(nrows=3, ncols=2, figsize=(16,10))\n",
        "index = 0\n",
        "ax = ax.flatten()\n",
        "\n",
        "for x in X.columns:\n",
        "    if X[x].dtype == object:\n",
        "      continue\n",
        "    sns.distplot(X[x], ax=ax[index])\n",
        "    index += 1\n",
        "fig.legend(labels=X.columns)\n",
        "plt.tight_layout(pad=0.5, h_pad=0.5, w_pad=0.5)"
      ]
    },
    {
      "cell_type": "code",
      "execution_count": null,
      "metadata": {
        "id": "YrPzt9mlBOrH"
      },
      "outputs": [],
      "source": [
        "y = X['Predictions']\n",
        "X.drop(['Predictions'], axis=1, inplace=True)"
      ]
    },
    {
      "cell_type": "markdown",
      "metadata": {
        "id": "zi3P1HVchvjl"
      },
      "source": [
        "Separating Categorical and numerical features"
      ]
    },
    {
      "cell_type": "code",
      "execution_count": null,
      "metadata": {
        "colab": {
          "base_uri": "https://localhost:8080/"
        },
        "id": "TQCVs9Z2CGD5",
        "outputId": "07fdc5b5-c265-4442-c368-bd01de47d967"
      },
      "outputs": [
        {
          "name": "stdout",
          "output_type": "stream",
          "text": [
            "['age', 'Financial Weight', 'education-num', 'Capital Gain', 'Capital Loss', 'hours-per-week']\n",
            "['Working Section', 'education', 'Marriage Status', 'occupation', 'Relationship Status', 'Skin Color', 'Gender', 'Country']\n"
          ]
        }
      ],
      "source": [
        "num_features = []\n",
        "char_features = []\n",
        "for x in X.columns:\n",
        "    if(X[x].dtypes == object):\n",
        "        char_features.append(x)\n",
        "    else:\n",
        "        num_features.append(x)\n",
        "\n",
        "print(num_features)\n",
        "print(char_features)"
      ]
    },
    {
      "cell_type": "markdown",
      "metadata": {
        "id": "2fzF7_Ylh247"
      },
      "source": [
        "Creating a Pipeline for executing preprocessing tasks together\n",
        "##### This makes our task easier for both training and testing data."
      ]
    },
    {
      "cell_type": "code",
      "execution_count": null,
      "metadata": {
        "id": "_-ujXCJICKcc"
      },
      "outputs": [],
      "source": [
        "object_pipeline = Pipeline([\n",
        "    ('imputer', SimpleImputer(strategy='most_frequent')),\n",
        "    ('onehotencoder', OneHotEncoder())\n",
        "])\n",
        "num_pipeline = Pipeline([\n",
        "    ('imputer', SimpleImputer(strategy='mean')),\n",
        "    ('minmaxscaler', StandardScaler()),\n",
        "])\n",
        "full_pipeline = ColumnTransformer([\n",
        "    ('num', num_pipeline, num_features),\n",
        "    ('char', object_pipeline, char_features),\n",
        "\n",
        "])\n",
        "\n",
        "X_encoded = full_pipeline.fit_transform(X)\n",
        "test_encoded = full_pipeline.transform(test)"
      ]
    },
    {
      "cell_type": "code",
      "execution_count": null,
      "metadata": {
        "colab": {
          "base_uri": "https://localhost:8080/"
        },
        "id": "D37qF9cLFtmT",
        "outputId": "cc3f9119-c169-4211-cfc8-f0afd53c2383"
      },
      "outputs": [
        {
          "name": "stdout",
          "output_type": "stream",
          "text": [
            "(22792, 66)\n",
            "(9769, 66)\n"
          ]
        }
      ],
      "source": [
        "print(X_encoded.shape)\n",
        "print(test_encoded.shape)"
      ]
    },
    {
      "cell_type": "markdown",
      "metadata": {
        "id": "HV6hCg01iitZ"
      },
      "source": [
        "Adding interaction among the features in the data.(Increasing Dimensionality)."
      ]
    },
    {
      "cell_type": "code",
      "execution_count": null,
      "metadata": {
        "id": "_jTmhvz27myq"
      },
      "outputs": [],
      "source": [
        "def add_interactions_train(df):\n",
        "\n",
        "  poly = PolynomialFeatures(interaction_only=True, include_bias=False)\n",
        "  df = poly.fit_transform(df)\n",
        "\n",
        "  return df\n",
        "\n"
      ]
    },
    {
      "cell_type": "code",
      "execution_count": null,
      "metadata": {
        "id": "bb1S_Wwr8IDI"
      },
      "outputs": [],
      "source": [
        "X_encoded = add_interactions_train(X_encoded.toarray())\n",
        "test_encoded = add_interactions_train(test_encoded.toarray())"
      ]
    },
    {
      "cell_type": "code",
      "execution_count": null,
      "metadata": {
        "id": "EdsJcKK8i648"
      },
      "outputs": [],
      "source": [
        "print(X_encoded.shape , test_encoded.shape)"
      ]
    },
    {
      "cell_type": "markdown",
      "metadata": {
        "id": "l2d3Vu_ejEt6"
      },
      "source": [
        "Reducing Dimensionality by using PCA"
      ]
    },
    {
      "cell_type": "code",
      "execution_count": null,
      "metadata": {
        "id": "83xKM6R6-DSU"
      },
      "outputs": [],
      "source": [
        "pca = PCA(n_components=100)\n",
        "X_encoded = pca.fit_transform(X_encoded)\n",
        "test_encoded= pca.transform(test_encoded)"
      ]
    },
    {
      "cell_type": "code",
      "execution_count": null,
      "metadata": {
        "colab": {
          "base_uri": "https://localhost:8080/"
        },
        "id": "7covDz1N9tcZ",
        "outputId": "54025219-c529-4ece-fc6a-9d34f3dba01f"
      },
      "outputs": [
        {
          "data": {
            "text/plain": [
              "(22792, 100)"
            ]
          },
          "execution_count": 42,
          "metadata": {},
          "output_type": "execute_result"
        }
      ],
      "source": [
        "X_encoded.shape"
      ]
    },
    {
      "cell_type": "markdown",
      "metadata": {
        "id": "DRIbjmyRjJe7"
      },
      "source": [
        "Evaluating model using Stratified K Fold Cross validation."
      ]
    },
    {
      "cell_type": "code",
      "execution_count": null,
      "metadata": {
        "id": "pDG4U9OwF97z"
      },
      "outputs": [],
      "source": [
        "def evaluate_model(X, y, model):\n",
        "\t\n",
        "\tcv = RepeatedStratifiedKFold(n_splits=10, n_repeats=3, random_state=1)\n",
        "\n",
        "\tscores = cross_val_score(model, X, y, scoring='roc_auc', cv=cv, n_jobs=-1)\n",
        "\treturn scores"
      ]
    },
    {
      "cell_type": "code",
      "execution_count": null,
      "metadata": {
        "id": "OtcVH9FE4lis"
      },
      "outputs": [],
      "source": [
        "X_train,X_valid,y_train,y_valid = train_test_split(X_encoded,y, random_state=0, shuffle=True, train_size=0.8)"
      ]
    },
    {
      "cell_type": "markdown",
      "metadata": {
        "id": "DQbzvOd_jQfY"
      },
      "source": [
        "Stacking classifiers"
      ]
    },
    {
      "cell_type": "code",
      "execution_count": null,
      "metadata": {
        "id": "eo2CWEupx-7l"
      },
      "outputs": [],
      "source": [
        "gb = GaussianNB()\n",
        "lr = LogisticRegression(random_state=0)\n",
        "bb = BernoulliNB()\n",
        "ls = SVC(C=100, probability=True)\n",
        "model = StackingClassifier( estimators=[\n",
        "    ('gb',gb),\n",
        "    ('lr',lr),\n",
        "    ('bb',bb),\n",
        "    ('ls',ls)],\n",
        "    n_jobs=-1,\n",
        ")"
      ]
    },
    {
      "cell_type": "code",
      "execution_count": null,
      "metadata": {
        "colab": {
          "base_uri": "https://localhost:8080/"
        },
        "id": "qw2tZjx75QLV",
        "outputId": "a5727137-cf41-4f6f-e2c4-a67b52b3dbf9"
      },
      "outputs": [
        {
          "data": {
            "text/plain": [
              "0.9053376372597053"
            ]
          },
          "execution_count": 46,
          "metadata": {},
          "output_type": "execute_result"
        }
      ],
      "source": [
        "model.fit(X_train,y_train)\n",
        "roc_auc_score(y_valid,model.predict_proba(X_valid)[:,1])\n",
        "# print(evaluate_model(X_encoded,y,model))"
      ]
    },
    {
      "cell_type": "code",
      "execution_count": null,
      "metadata": {
        "colab": {
          "base_uri": "https://localhost:8080/"
        },
        "id": "jV24_E-8j-74",
        "outputId": "2388dbf9-ac1d-4650-abdf-9d4f2a49da70"
      },
      "outputs": [
        {
          "data": {
            "text/plain": [
              "0.9350202595723531"
            ]
          },
          "execution_count": 47,
          "metadata": {},
          "output_type": "execute_result"
        }
      ],
      "source": [
        "roc_auc_score(y_train,model.predict_proba(X_train)[:,1])\n"
      ]
    },
    {
      "cell_type": "code",
      "execution_count": null,
      "metadata": {
        "colab": {
          "base_uri": "https://localhost:8080/",
          "height": 424
        },
        "id": "gKjk6xXF5wML",
        "outputId": "580081aa-4250-4804-d68b-8c53be86f5bd"
      },
      "outputs": [
        {
          "data": {
            "text/html": [
              "<div>\n",
              "<style scoped>\n",
              "    .dataframe tbody tr th:only-of-type {\n",
              "        vertical-align: middle;\n",
              "    }\n",
              "\n",
              "    .dataframe tbody tr th {\n",
              "        vertical-align: top;\n",
              "    }\n",
              "\n",
              "    .dataframe thead th {\n",
              "        text-align: right;\n",
              "    }\n",
              "</style>\n",
              "<table border=\"1\" class=\"dataframe\">\n",
              "  <thead>\n",
              "    <tr style=\"text-align: right;\">\n",
              "      <th></th>\n",
              "      <th>id</th>\n",
              "      <th>Predictions</th>\n",
              "    </tr>\n",
              "  </thead>\n",
              "  <tbody>\n",
              "    <tr>\n",
              "      <th>0</th>\n",
              "      <td>13102</td>\n",
              "      <td>0.064727</td>\n",
              "    </tr>\n",
              "    <tr>\n",
              "      <th>1</th>\n",
              "      <td>19586</td>\n",
              "      <td>0.040034</td>\n",
              "    </tr>\n",
              "    <tr>\n",
              "      <th>2</th>\n",
              "      <td>29215</td>\n",
              "      <td>0.059181</td>\n",
              "    </tr>\n",
              "    <tr>\n",
              "      <th>3</th>\n",
              "      <td>23331</td>\n",
              "      <td>0.241688</td>\n",
              "    </tr>\n",
              "    <tr>\n",
              "      <th>4</th>\n",
              "      <td>31935</td>\n",
              "      <td>0.036959</td>\n",
              "    </tr>\n",
              "    <tr>\n",
              "      <th>...</th>\n",
              "      <td>...</td>\n",
              "      <td>...</td>\n",
              "    </tr>\n",
              "    <tr>\n",
              "      <th>9764</th>\n",
              "      <td>4937</td>\n",
              "      <td>0.040181</td>\n",
              "    </tr>\n",
              "    <tr>\n",
              "      <th>9765</th>\n",
              "      <td>9710</td>\n",
              "      <td>0.061279</td>\n",
              "    </tr>\n",
              "    <tr>\n",
              "      <th>9766</th>\n",
              "      <td>8835</td>\n",
              "      <td>0.046572</td>\n",
              "    </tr>\n",
              "    <tr>\n",
              "      <th>9767</th>\n",
              "      <td>31470</td>\n",
              "      <td>0.040530</td>\n",
              "    </tr>\n",
              "    <tr>\n",
              "      <th>9768</th>\n",
              "      <td>11033</td>\n",
              "      <td>0.360388</td>\n",
              "    </tr>\n",
              "  </tbody>\n",
              "</table>\n",
              "<p>9769 rows × 2 columns</p>\n",
              "</div>"
            ],
            "text/plain": [
              "         id  Predictions\n",
              "0     13102     0.064727\n",
              "1     19586     0.040034\n",
              "2     29215     0.059181\n",
              "3     23331     0.241688\n",
              "4     31935     0.036959\n",
              "...     ...          ...\n",
              "9764   4937     0.040181\n",
              "9765   9710     0.061279\n",
              "9766   8835     0.046572\n",
              "9767  31470     0.040530\n",
              "9768  11033     0.360388\n",
              "\n",
              "[9769 rows x 2 columns]"
            ]
          },
          "execution_count": 48,
          "metadata": {},
          "output_type": "execute_result"
        }
      ],
      "source": [
        "test_pred = model.predict_proba(test_encoded)[:,1]\n",
        "outcome = pd.DataFrame(test_pred)\n",
        "result = pd.concat([test_id,outcome], axis=1)\n",
        "result.columns = ['id','Predictions']\n",
        "result.to_csv('result.csv',encoding='utf-8', columns=['id','Predictions'], index=False)\n",
        "result"
      ]
    }
  ],
  "metadata": {
    "colab": {
      "collapsed_sections": [],
      "name": "classification-hackathon.ipynb",
      "provenance": []
    },
    "kernelspec": {
      "display_name": "Python 3",
      "name": "python3"
    },
    "language_info": {
      "name": "python"
    }
  },
  "nbformat": 4,
  "nbformat_minor": 0
}
